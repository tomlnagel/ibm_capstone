{
    "cells": [
        {
            "cell_type": "markdown",
            "metadata": {},
            "source": "<center>\n    <img src=\"https://gitlab.com/ibm/skills-network/courses/placeholder101/-/raw/master/labs/module%201/images/IDSNlogo.png\" width=\"300\" alt=\"cognitiveclass.ai logo\"  />\n</center>\n"
        },
        {
            "cell_type": "markdown",
            "metadata": {},
            "source": "# **Space X  Falcon 9 First Stage Landing Prediction**\n"
        },
        {
            "cell_type": "markdown",
            "metadata": {},
            "source": "## Web scraping Falcon 9 and Falcon Heavy Launches Records from Wikipedia\n"
        },
        {
            "cell_type": "markdown",
            "metadata": {},
            "source": "Estimated time needed: **40** minutes\n"
        },
        {
            "cell_type": "markdown",
            "metadata": {},
            "source": "In this lab, you will be performing web scraping to collect Falcon 9 historical launch records from a Wikipedia page titled `List of Falcon 9 and Falcon Heavy launches`\n\n[https://en.wikipedia.org/wiki/List_of_Falcon\\_9\\_and_Falcon_Heavy_launches](https://en.wikipedia.org/wiki/List_of_Falcon\\_9\\_and_Falcon_Heavy_launches?utm_medium=Exinfluencer&utm_source=Exinfluencer&utm_content=000026UJ&utm_term=10006555&utm_id=NA-SkillsNetwork-Channel-SkillsNetworkCoursesIBMDS0321ENSkillsNetwork26802033-2021-01-01)\n"
        },
        {
            "cell_type": "markdown",
            "metadata": {},
            "source": "![](https://cf-courses-data.s3.us.cloud-object-storage.appdomain.cloud/IBM-DS0321EN-SkillsNetwork/labs/module\\_1\\_L2/images/Falcon9\\_rocket_family.svg)\n"
        },
        {
            "cell_type": "markdown",
            "metadata": {},
            "source": "Falcon 9 first stage will land successfully\n"
        },
        {
            "cell_type": "markdown",
            "metadata": {},
            "source": "![](https://cf-courses-data.s3.us.cloud-object-storage.appdomain.cloud/IBMDeveloperSkillsNetwork-DS0701EN-SkillsNetwork/api/Images/landing\\_1.gif)\n"
        },
        {
            "cell_type": "markdown",
            "metadata": {},
            "source": "Several examples of an unsuccessful landing are shown here:\n"
        },
        {
            "cell_type": "markdown",
            "metadata": {},
            "source": "![](https://cf-courses-data.s3.us.cloud-object-storage.appdomain.cloud/IBMDeveloperSkillsNetwork-DS0701EN-SkillsNetwork/api/Images/crash.gif)\n"
        },
        {
            "cell_type": "markdown",
            "metadata": {},
            "source": "More specifically, the launch records are stored in a HTML table shown below:\n"
        },
        {
            "cell_type": "markdown",
            "metadata": {},
            "source": "![](https://cf-courses-data.s3.us.cloud-object-storage.appdomain.cloud/IBM-DS0321EN-SkillsNetwork/labs/module\\_1\\_L2/images/falcon9-launches-wiki.png)\n"
        },
        {
            "cell_type": "markdown",
            "metadata": {},
            "source": "## Objectives\n\nWeb scrap Falcon 9 launch records with `BeautifulSoup`:\n\n*   Extract a Falcon 9 launch records HTML table from Wikipedia\n*   Parse the table and convert it into a Pandas data frame\n"
        },
        {
            "cell_type": "markdown",
            "metadata": {},
            "source": "First let's import required packages for this lab\n"
        },
        {
            "cell_type": "code",
            "execution_count": 1,
            "metadata": {},
            "outputs": [
                {
                    "name": "stdout",
                    "output_type": "stream",
                    "text": "Requirement already satisfied: beautifulsoup4 in /opt/conda/envs/Python-3.8-main/lib/python3.8/site-packages (4.9.3)\nRequirement already satisfied: soupsieve>1.2 in /opt/conda/envs/Python-3.8-main/lib/python3.8/site-packages (from beautifulsoup4) (2.2.1)\nRequirement already satisfied: requests in /opt/conda/envs/Python-3.8-main/lib/python3.8/site-packages (2.25.1)\nRequirement already satisfied: idna<3,>=2.5 in /opt/conda/envs/Python-3.8-main/lib/python3.8/site-packages (from requests) (2.8)\nRequirement already satisfied: urllib3<1.27,>=1.21.1 in /opt/conda/envs/Python-3.8-main/lib/python3.8/site-packages (from requests) (1.26.6)\nRequirement already satisfied: chardet<5,>=3.0.2 in /opt/conda/envs/Python-3.8-main/lib/python3.8/site-packages (from requests) (3.0.4)\nRequirement already satisfied: certifi>=2017.4.17 in /opt/conda/envs/Python-3.8-main/lib/python3.8/site-packages (from requests) (2021.5.30)\n"
                }
            ],
            "source": "!pip3 install beautifulsoup4\n!pip3 install requests"
        },
        {
            "cell_type": "code",
            "execution_count": 2,
            "metadata": {},
            "outputs": [],
            "source": "import sys\n\nimport requests\nfrom bs4 import BeautifulSoup\nimport re\nimport unicodedata\nimport pandas as pd"
        },
        {
            "cell_type": "markdown",
            "metadata": {},
            "source": "and we will provide some helper functions for you to process web scraped HTML table\n"
        },
        {
            "cell_type": "code",
            "execution_count": 3,
            "metadata": {},
            "outputs": [],
            "source": "def date_time(table_cells):\n    \"\"\"\n    This function returns the data and time from the HTML  table cell\n    Input: the  element of a table data cell extracts extra row\n    \"\"\"\n    return [data_time.strip() for data_time in list(table_cells.strings)][0:2]\n\ndef booster_version(table_cells):\n    \"\"\"\n    This function returns the booster version from the HTML  table cell \n    Input: the  element of a table data cell extracts extra row\n    \"\"\"\n    out=''.join([booster_version for i,booster_version in enumerate( table_cells.strings) if i%2==0][0:-1])\n    return out\n\ndef landing_status(table_cells):\n    \"\"\"\n    This function returns the landing status from the HTML table cell \n    Input: the  element of a table data cell extracts extra row\n    \"\"\"\n    out=[i for i in table_cells.strings][0]\n    return out\n\n\ndef get_mass(table_cells):\n    mass=unicodedata.normalize(\"NFKD\", table_cells.text).strip()\n    if mass:\n        mass.find(\"kg\")\n        new_mass=mass[0:mass.find(\"kg\")+2]\n    else:\n        new_mass=0\n    return new_mass\n\n\ndef extract_column_from_header(row):\n    \"\"\"\n    This function returns the landing status from the HTML table cell \n    Input: the  element of a table data cell extracts extra row\n    \"\"\"\n    if (row.br):\n        row.br.extract()\n    if row.a:\n        row.a.extract()\n    if row.sup:\n        row.sup.extract()\n        \n    colunm_name = ' '.join(row.contents)\n    \n    # Filter the digit and empty names\n    if not(colunm_name.strip().isdigit()):\n        colunm_name = colunm_name.strip()\n        return colunm_name    \n"
        },
        {
            "cell_type": "markdown",
            "metadata": {},
            "source": "To keep the lab tasks consistent, you will be asked to scrape the data from a snapshot of the  `List of Falcon 9 and Falcon Heavy launches` Wikipage updated on\n`9th June 2021`\n"
        },
        {
            "cell_type": "code",
            "execution_count": 4,
            "metadata": {},
            "outputs": [],
            "source": "static_url = \"https://en.wikipedia.org/w/index.php?title=List_of_Falcon_9_and_Falcon_Heavy_launches&oldid=1027686922\""
        },
        {
            "cell_type": "markdown",
            "metadata": {},
            "source": "Next, request the HTML page from the above URL and get a `response` object\n"
        },
        {
            "cell_type": "markdown",
            "metadata": {},
            "source": "### TASK 1: Request the Falcon9 Launch Wiki page from its URL\n"
        },
        {
            "cell_type": "markdown",
            "metadata": {},
            "source": "First, let's perform an HTTP GET method to request the Falcon9 Launch HTML page, as an HTTP response.\n"
        },
        {
            "cell_type": "code",
            "execution_count": 6,
            "metadata": {},
            "outputs": [],
            "source": "# use requests.get() method with the provided static_url\n# assign the response to a object\n\nresponse = requests.get(static_url)"
        },
        {
            "cell_type": "markdown",
            "metadata": {},
            "source": "Create a `BeautifulSoup` object from the HTML `response`\n"
        },
        {
            "cell_type": "code",
            "execution_count": 10,
            "metadata": {},
            "outputs": [],
            "source": "# Use BeautifulSoup() to create a BeautifulSoup object from a response text content\n\nsoup = BeautifulSoup(response.content)"
        },
        {
            "cell_type": "markdown",
            "metadata": {},
            "source": "Print the page title to verify if the `BeautifulSoup` object was created properly\n"
        },
        {
            "cell_type": "code",
            "execution_count": 12,
            "metadata": {},
            "outputs": [
                {
                    "data": {
                        "text/plain": "<title>List of Falcon 9 and Falcon Heavy launches - Wikipedia</title>"
                    },
                    "execution_count": 12,
                    "metadata": {},
                    "output_type": "execute_result"
                }
            ],
            "source": "# Use soup.title attribute\nsoup.title"
        },
        {
            "cell_type": "markdown",
            "metadata": {},
            "source": "### TASK 2: Extract all column/variable names from the HTML table header\n"
        },
        {
            "cell_type": "markdown",
            "metadata": {},
            "source": "Next, we want to collect all relevant column names from the HTML table header\n"
        },
        {
            "cell_type": "markdown",
            "metadata": {},
            "source": "Let's try to find all tables on the wiki page first. If you need to refresh your memory about `BeautifulSoup`, please check the external reference link towards the end of this lab\n"
        },
        {
            "cell_type": "code",
            "execution_count": 15,
            "metadata": {},
            "outputs": [],
            "source": "# Use the find_all function in the BeautifulSoup object, with element type `table`\n# Assign the result to a list called `html_tables`\nhtml_tables = soup.find_all('table')"
        },
        {
            "cell_type": "markdown",
            "metadata": {},
            "source": "Starting from the third table is our target table contains the actual launch records.\n"
        },
        {
            "cell_type": "code",
            "execution_count": 16,
            "metadata": {},
            "outputs": [
                {
                    "name": "stdout",
                    "output_type": "stream",
                    "text": "<table class=\"wikitable plainrowheaders collapsible\" style=\"width: 100%;\">\n<tbody><tr>\n<th scope=\"col\">Flight No.\n</th>\n<th scope=\"col\">Date and<br/>time (<a href=\"/wiki/Coordinated_Universal_Time\" title=\"Coordinated Universal Time\">UTC</a>)\n</th>\n<th scope=\"col\"><a href=\"/wiki/List_of_Falcon_9_first-stage_boosters\" title=\"List of Falcon 9 first-stage boosters\">Version,<br/>Booster</a> <sup class=\"reference\" id=\"cite_ref-booster_11-0\"><a href=\"#cite_note-booster-11\">[b]</a></sup>\n</th>\n<th scope=\"col\">Launch site\n</th>\n<th scope=\"col\">Payload<sup class=\"reference\" id=\"cite_ref-Dragon_12-0\"><a href=\"#cite_note-Dragon-12\">[c]</a></sup>\n</th>\n<th scope=\"col\">Payload mass\n</th>\n<th scope=\"col\">Orbit\n</th>\n<th scope=\"col\">Customer\n</th>\n<th scope=\"col\">Launch<br/>outcome\n</th>\n<th scope=\"col\"><a href=\"/wiki/Falcon_9_first-stage_landing_tests\" title=\"Falcon 9 first-stage landing tests\">Booster<br/>landing</a>\n</th></tr>\n<tr>\n<th rowspan=\"2\" scope=\"row\" style=\"text-align:center;\">1\n</th>\n<td>4 June 2010,<br/>18:45\n</td>\n<td><a href=\"/wiki/Falcon_9_v1.0\" title=\"Falcon 9 v1.0\">F9 v1.0</a><sup class=\"reference\" id=\"cite_ref-MuskMay2012_13-0\"><a href=\"#cite_note-MuskMay2012-13\">[7]</a></sup><br/>B0003.1<sup class=\"reference\" id=\"cite_ref-block_numbers_14-0\"><a href=\"#cite_note-block_numbers-14\">[8]</a></sup>\n</td>\n<td><a href=\"/wiki/Cape_Canaveral_Space_Force_Station\" title=\"Cape Canaveral Space Force Station\">CCAFS</a>,<br/><a href=\"/wiki/Cape_Canaveral_Space_Launch_Complex_40\" title=\"Cape Canaveral Space Launch Complex 40\">SLC-40</a>\n</td>\n<td><a href=\"/wiki/Dragon_Spacecraft_Qualification_Unit\" title=\"Dragon Spacecraft Qualification Unit\">Dragon Spacecraft Qualification Unit</a>\n</td>\n<td>\n</td>\n<td><a href=\"/wiki/Low_Earth_orbit\" title=\"Low Earth orbit\">LEO</a>\n</td>\n<td><a href=\"/wiki/SpaceX\" title=\"SpaceX\">SpaceX</a>\n</td>\n<td class=\"table-success\" style=\"background: LightGreen; color: black; vertical-align: middle; text-align: center;\">Success\n</td>\n<td class=\"table-failure\" style=\"background: #ffbbbb; color: black; vertical-align: middle; text-align: center;\">Failure<sup class=\"reference\" id=\"cite_ref-ns20110930_15-0\"><a href=\"#cite_note-ns20110930-15\">[9]</a></sup><sup class=\"reference\" id=\"cite_ref-16\"><a href=\"#cite_note-16\">[10]</a></sup><br/><small>(parachute)</small>\n</td></tr>\n<tr>\n<td colspan=\"9\">First flight of Falcon 9 v1.0.<sup class=\"reference\" id=\"cite_ref-sfn20100604_17-0\"><a href=\"#cite_note-sfn20100604-17\">[11]</a></sup> Used a boilerplate version of Dragon capsule which was not designed to separate from the second stage.<small>(<a href=\"#First_flight_of_Falcon_9\">more details below</a>)</small> Attempted to recover the first stage by parachuting it into the ocean, but it burned up on reentry, before the parachutes even deployed.<sup class=\"reference\" id=\"cite_ref-parachute_18-0\"><a href=\"#cite_note-parachute-18\">[12]</a></sup>\n</td></tr>\n<tr>\n<th rowspan=\"2\" scope=\"row\" style=\"text-align:center;\">2\n</th>\n<td>8 December 2010,<br/>15:43<sup class=\"reference\" id=\"cite_ref-spaceflightnow_Clark_Launch_Report_19-0\"><a href=\"#cite_note-spaceflightnow_Clark_Launch_Report-19\">[13]</a></sup>\n</td>\n<td><a href=\"/wiki/Falcon_9_v1.0\" title=\"Falcon 9 v1.0\">F9 v1.0</a><sup class=\"reference\" id=\"cite_ref-MuskMay2012_13-1\"><a href=\"#cite_note-MuskMay2012-13\">[7]</a></sup><br/>B0004.1<sup class=\"reference\" id=\"cite_ref-block_numbers_14-1\"><a href=\"#cite_note-block_numbers-14\">[8]</a></sup>\n</td>\n<td><a href=\"/wiki/Cape_Canaveral_Space_Force_Station\" title=\"Cape Canaveral Space Force Station\">CCAFS</a>,<br/><a href=\"/wiki/Cape_Canaveral_Space_Launch_Complex_40\" title=\"Cape Canaveral Space Launch Complex 40\">SLC-40</a>\n</td>\n<td><a href=\"/wiki/SpaceX_Dragon\" title=\"SpaceX Dragon\">Dragon</a> <a class=\"mw-redirect\" href=\"/wiki/COTS_Demo_Flight_1\" title=\"COTS Demo Flight 1\">demo flight C1</a><br/>(Dragon C101)\n</td>\n<td>\n</td>\n<td><a href=\"/wiki/Low_Earth_orbit\" title=\"Low Earth orbit\">LEO</a> (<a href=\"/wiki/International_Space_Station\" title=\"International Space Station\">ISS</a>)\n</td>\n<td><div class=\"plainlist\">\n<ul><li><a href=\"/wiki/NASA\" title=\"NASA\">NASA</a> (<a href=\"/wiki/Commercial_Orbital_Transportation_Services\" title=\"Commercial Orbital Transportation Services\">COTS</a>)</li>\n<li><a href=\"/wiki/National_Reconnaissance_Office\" title=\"National Reconnaissance Office\">NRO</a></li></ul>\n</div>\n</td>\n<td class=\"table-success\" style=\"background: LightGreen; color: black; vertical-align: middle; text-align: center;\">Success<sup class=\"reference\" id=\"cite_ref-ns20110930_15-1\"><a href=\"#cite_note-ns20110930-15\">[9]</a></sup>\n</td>\n<td class=\"table-failure\" style=\"background: #ffbbbb; color: black; vertical-align: middle; text-align: center;\">Failure<sup class=\"reference\" id=\"cite_ref-ns20110930_15-2\"><a href=\"#cite_note-ns20110930-15\">[9]</a></sup><sup class=\"reference\" id=\"cite_ref-20\"><a href=\"#cite_note-20\">[14]</a></sup><br/><small>(parachute)</small>\n</td></tr>\n<tr>\n<td colspan=\"9\">Maiden flight of <a class=\"mw-redirect\" href=\"/wiki/Dragon_capsule\" title=\"Dragon capsule\">Dragon capsule</a>, consisting of over 3 hours of testing thruster maneuvering and reentry.<sup class=\"reference\" id=\"cite_ref-spaceflightnow_Clark_unleashing_Dragon_21-0\"><a href=\"#cite_note-spaceflightnow_Clark_unleashing_Dragon-21\">[15]</a></sup> Attempted to recover the first stage by parachuting it into the ocean, but it disintegrated upon reentry, before the parachutes were deployed.<sup class=\"reference\" id=\"cite_ref-parachute_18-1\"><a href=\"#cite_note-parachute-18\">[12]</a></sup> <small>(<a href=\"#COTS_demo_missions\">more details below</a>)</small> It also included two <a href=\"/wiki/CubeSat\" title=\"CubeSat\">CubeSats</a>,<sup class=\"reference\" id=\"cite_ref-NRO_Taps_Boeing_for_Next_Batch_of_CubeSats_22-0\"><a href=\"#cite_note-NRO_Taps_Boeing_for_Next_Batch_of_CubeSats-22\">[16]</a></sup> and a wheel of <a href=\"/wiki/Brou%C3%A8re\" title=\"Brou\u00e8re\">Brou\u00e8re</a> cheese.\n</td></tr>\n<tr>\n<th rowspan=\"2\" scope=\"row\" style=\"text-align:center;\">3\n</th>\n<td>22 May 2012,<br/>07:44<sup class=\"reference\" id=\"cite_ref-BBC_new_era_23-0\"><a href=\"#cite_note-BBC_new_era-23\">[17]</a></sup>\n</td>\n<td><a href=\"/wiki/Falcon_9_v1.0\" title=\"Falcon 9 v1.0\">F9 v1.0</a><sup class=\"reference\" id=\"cite_ref-MuskMay2012_13-2\"><a href=\"#cite_note-MuskMay2012-13\">[7]</a></sup><br/>B0005.1<sup class=\"reference\" id=\"cite_ref-block_numbers_14-2\"><a href=\"#cite_note-block_numbers-14\">[8]</a></sup>\n</td>\n<td><a href=\"/wiki/Cape_Canaveral_Space_Force_Station\" title=\"Cape Canaveral Space Force Station\">CCAFS</a>,<br/><a href=\"/wiki/Cape_Canaveral_Space_Launch_Complex_40\" title=\"Cape Canaveral Space Launch Complex 40\">SLC-40</a>\n</td>\n<td><a href=\"/wiki/SpaceX_Dragon\" title=\"SpaceX Dragon\">Dragon</a> <a class=\"mw-redirect\" href=\"/wiki/Dragon_C2%2B\" title=\"Dragon C2+\">demo flight C2+</a><sup class=\"reference\" id=\"cite_ref-C2_24-0\"><a href=\"#cite_note-C2-24\">[18]</a></sup><br/>(Dragon C102)\n</td>\n<td>525\u00a0kg (1,157\u00a0lb)<sup class=\"reference\" id=\"cite_ref-25\"><a href=\"#cite_note-25\">[19]</a></sup>\n</td>\n<td><a href=\"/wiki/Low_Earth_orbit\" title=\"Low Earth orbit\">LEO</a> (<a href=\"/wiki/International_Space_Station\" title=\"International Space Station\">ISS</a>)\n</td>\n<td><a href=\"/wiki/NASA\" title=\"NASA\">NASA</a> (<a href=\"/wiki/Commercial_Orbital_Transportation_Services\" title=\"Commercial Orbital Transportation Services\">COTS</a>)\n</td>\n<td class=\"table-success\" style=\"background: LightGreen; color: black; vertical-align: middle; text-align: center;\">Success<sup class=\"reference\" id=\"cite_ref-26\"><a href=\"#cite_note-26\">[20]</a></sup>\n</td>\n<td class=\"table-noAttempt\" style=\"background: #ececec; color: black; vertical-align: middle; white-space: nowrap; text-align: center;\">No attempt\n</td></tr>\n<tr>\n<td colspan=\"9\">Dragon spacecraft demonstrated a series of tests before it was allowed to approach the <a href=\"/wiki/International_Space_Station\" title=\"International Space Station\">International Space Station</a>. Two days later, it became the first commercial spacecraft to board the ISS.<sup class=\"reference\" id=\"cite_ref-BBC_new_era_23-1\"><a href=\"#cite_note-BBC_new_era-23\">[17]</a></sup> <small>(<a href=\"#COTS_demo_missions\">more details below</a>)</small>\n</td></tr>\n<tr>\n<th rowspan=\"3\" scope=\"row\" style=\"text-align:center;\">4\n</th>\n<td rowspan=\"2\">8 October 2012,<br/>00:35<sup class=\"reference\" id=\"cite_ref-SFN_LLog_27-0\"><a href=\"#cite_note-SFN_LLog-27\">[21]</a></sup>\n</td>\n<td rowspan=\"2\"><a href=\"/wiki/Falcon_9_v1.0\" title=\"Falcon 9 v1.0\">F9 v1.0</a><sup class=\"reference\" id=\"cite_ref-MuskMay2012_13-3\"><a href=\"#cite_note-MuskMay2012-13\">[7]</a></sup><br/>B0006.1<sup class=\"reference\" id=\"cite_ref-block_numbers_14-3\"><a href=\"#cite_note-block_numbers-14\">[8]</a></sup>\n</td>\n<td rowspan=\"2\"><a href=\"/wiki/Cape_Canaveral_Space_Force_Station\" title=\"Cape Canaveral Space Force Station\">CCAFS</a>,<br/><a href=\"/wiki/Cape_Canaveral_Space_Launch_Complex_40\" title=\"Cape Canaveral Space Launch Complex 40\">SLC-40</a>\n</td>\n<td><a href=\"/wiki/SpaceX_CRS-1\" title=\"SpaceX CRS-1\">SpaceX CRS-1</a><sup class=\"reference\" id=\"cite_ref-sxManifest20120925_28-0\"><a href=\"#cite_note-sxManifest20120925-28\">[22]</a></sup><br/>(Dragon C103)\n</td>\n<td>4,700\u00a0kg (10,400\u00a0lb)\n</td>\n<td><a href=\"/wiki/Low_Earth_orbit\" title=\"Low Earth orbit\">LEO</a> (<a href=\"/wiki/International_Space_Station\" title=\"International Space Station\">ISS</a>)\n</td>\n<td><a href=\"/wiki/NASA\" title=\"NASA\">NASA</a> (<a href=\"/wiki/Commercial_Resupply_Services\" title=\"Commercial Resupply Services\">CRS</a>)\n</td>\n<td class=\"table-success\" style=\"background: LightGreen; color: black; vertical-align: middle; text-align: center;\">Success\n</td>\n<td rowspan=\"2\" style=\"background:#ececec; text-align:center;\"><span class=\"nowrap\">No attempt</span>\n</td></tr>\n<tr>\n<td><a href=\"/wiki/Orbcomm_(satellite)\" title=\"Orbcomm (satellite)\">Orbcomm-OG2</a><sup class=\"reference\" id=\"cite_ref-Orbcomm_29-0\"><a href=\"#cite_note-Orbcomm-29\">[23]</a></sup>\n</td>\n<td>172\u00a0kg (379\u00a0lb)<sup class=\"reference\" id=\"cite_ref-gunter-og2_30-0\"><a href=\"#cite_note-gunter-og2-30\">[24]</a></sup>\n</td>\n<td><a href=\"/wiki/Low_Earth_orbit\" title=\"Low Earth orbit\">LEO</a>\n</td>\n<td><a href=\"/wiki/Orbcomm\" title=\"Orbcomm\">Orbcomm</a>\n</td>\n<td class=\"table-partial\" style=\"background: wheat; color: black; vertical-align: middle; text-align: center;\">Partial failure<sup class=\"reference\" id=\"cite_ref-nyt-20121030_31-0\"><a href=\"#cite_note-nyt-20121030-31\">[25]</a></sup>\n</td></tr>\n<tr>\n<td colspan=\"9\">CRS-1 was successful, but the <a href=\"/wiki/Secondary_payload\" title=\"Secondary payload\">secondary payload</a> was inserted into an abnormally low orbit and subsequently lost. This was due to one of the nine <a href=\"/wiki/SpaceX_Merlin\" title=\"SpaceX Merlin\">Merlin engines</a> shutting down during the launch, and NASA declining a second reignition, as per <a href=\"/wiki/International_Space_Station\" title=\"International Space Station\">ISS</a> visiting vehicle safety rules, the primary payload owner is contractually allowed to decline a second reignition. NASA stated that this was because SpaceX could not guarantee a high enough likelihood of the second stage completing the second burn successfully which was required to avoid any risk of secondary payload's collision with the ISS.<sup class=\"reference\" id=\"cite_ref-OrbcommTotalLoss_32-0\"><a href=\"#cite_note-OrbcommTotalLoss-32\">[26]</a></sup><sup class=\"reference\" id=\"cite_ref-sn20121011_33-0\"><a href=\"#cite_note-sn20121011-33\">[27]</a></sup><sup class=\"reference\" id=\"cite_ref-34\"><a href=\"#cite_note-34\">[28]</a></sup>\n</td></tr>\n<tr>\n<th rowspan=\"2\" scope=\"row\" style=\"text-align:center;\">5\n</th>\n<td>1 March 2013,<br/>15:10\n</td>\n<td><a href=\"/wiki/Falcon_9_v1.0\" title=\"Falcon 9 v1.0\">F9 v1.0</a><sup class=\"reference\" id=\"cite_ref-MuskMay2012_13-4\"><a href=\"#cite_note-MuskMay2012-13\">[7]</a></sup><br/>B0007.1<sup class=\"reference\" id=\"cite_ref-block_numbers_14-4\"><a href=\"#cite_note-block_numbers-14\">[8]</a></sup>\n</td>\n<td><a href=\"/wiki/Cape_Canaveral_Space_Force_Station\" title=\"Cape Canaveral Space Force Station\">CCAFS</a>,<br/><a href=\"/wiki/Cape_Canaveral_Space_Launch_Complex_40\" title=\"Cape Canaveral Space Launch Complex 40\">SLC-40</a>\n</td>\n<td><a href=\"/wiki/SpaceX_CRS-2\" title=\"SpaceX CRS-2\">SpaceX CRS-2</a><sup class=\"reference\" id=\"cite_ref-sxManifest20120925_28-1\"><a href=\"#cite_note-sxManifest20120925-28\">[22]</a></sup><br/>(Dragon C104)\n</td>\n<td>4,877\u00a0kg (10,752\u00a0lb)\n</td>\n<td><a href=\"/wiki/Low_Earth_orbit\" title=\"Low Earth orbit\">LEO</a> (<a class=\"mw-redirect\" href=\"/wiki/ISS\" title=\"ISS\">ISS</a>)\n</td>\n<td><a href=\"/wiki/NASA\" title=\"NASA\">NASA</a> (<a href=\"/wiki/Commercial_Resupply_Services\" title=\"Commercial Resupply Services\">CRS</a>)\n</td>\n<td class=\"table-success\" style=\"background: LightGreen; color: black; vertical-align: middle; text-align: center;\">Success\n</td>\n<td class=\"table-noAttempt\" style=\"background: #ececec; color: black; vertical-align: middle; white-space: nowrap; text-align: center;\">No attempt\n</td></tr>\n<tr>\n<td colspan=\"9\">Last launch of the original Falcon 9 v1.0 <a href=\"/wiki/Launch_vehicle\" title=\"Launch vehicle\">launch vehicle</a>, first use of the unpressurized trunk section of Dragon.<sup class=\"reference\" id=\"cite_ref-sxf9_20110321_35-0\"><a href=\"#cite_note-sxf9_20110321-35\">[29]</a></sup>\n</td></tr>\n<tr>\n<th rowspan=\"2\" scope=\"row\" style=\"text-align:center;\">6\n</th>\n<td>29 September 2013,<br/>16:00<sup class=\"reference\" id=\"cite_ref-pa20130930_36-0\"><a href=\"#cite_note-pa20130930-36\">[30]</a></sup>\n</td>\n<td><a href=\"/wiki/Falcon_9_v1.1\" title=\"Falcon 9 v1.1\">F9 v1.1</a><sup class=\"reference\" id=\"cite_ref-MuskMay2012_13-5\"><a href=\"#cite_note-MuskMay2012-13\">[7]</a></sup><br/>B1003<sup class=\"reference\" id=\"cite_ref-block_numbers_14-5\"><a href=\"#cite_note-block_numbers-14\">[8]</a></sup>\n</td>\n<td><a class=\"mw-redirect\" href=\"/wiki/Vandenberg_Air_Force_Base\" title=\"Vandenberg Air Force Base\">VAFB</a>,<br/><a href=\"/wiki/Vandenberg_Space_Launch_Complex_4\" title=\"Vandenberg Space Launch Complex 4\">SLC-4E</a>\n</td>\n<td><a href=\"/wiki/CASSIOPE\" title=\"CASSIOPE\">CASSIOPE</a><sup class=\"reference\" id=\"cite_ref-sxManifest20120925_28-2\"><a href=\"#cite_note-sxManifest20120925-28\">[22]</a></sup><sup class=\"reference\" id=\"cite_ref-CASSIOPE_MDA_37-0\"><a href=\"#cite_note-CASSIOPE_MDA-37\">[31]</a></sup>\n</td>\n<td>500\u00a0kg (1,100\u00a0lb)\n</td>\n<td><a href=\"/wiki/Polar_orbit\" title=\"Polar orbit\">Polar orbit</a> <a href=\"/wiki/Low_Earth_orbit\" title=\"Low Earth orbit\">LEO</a>\n</td>\n<td><a href=\"/wiki/Maxar_Technologies\" title=\"Maxar Technologies\">MDA</a>\n</td>\n<td class=\"table-success\" style=\"background: LightGreen; color: black; vertical-align: middle; text-align: center;\">Success<sup class=\"reference\" id=\"cite_ref-pa20130930_36-1\"><a href=\"#cite_note-pa20130930-36\">[30]</a></sup>\n</td>\n<td class=\"table-no2\" style=\"background: #ffdddd; color: black; vertical-align: middle; text-align: center;\">Uncontrolled<br/><small>(ocean)</small><sup class=\"reference\" id=\"cite_ref-ocean_landing_38-0\"><a href=\"#cite_note-ocean_landing-38\">[d]</a></sup>\n</td></tr>\n<tr>\n<td colspan=\"9\">First commercial mission with a private customer, first launch from Vandenberg, and demonstration flight of Falcon 9 v1.1 with an improved 13-tonne to LEO capacity.<sup class=\"reference\" id=\"cite_ref-sxf9_20110321_35-1\"><a href=\"#cite_note-sxf9_20110321-35\">[29]</a></sup> After separation from the second stage carrying Canadian commercial and scientific satellites, the first stage booster performed a controlled reentry,<sup class=\"reference\" id=\"cite_ref-39\"><a href=\"#cite_note-39\">[32]</a></sup> and an <a href=\"/wiki/Falcon_9_first-stage_landing_tests\" title=\"Falcon 9 first-stage landing tests\">ocean touchdown test</a> for the first time. This provided good test data, even though the booster started rolling as it neared the ocean, leading to the shutdown of the central engine as the roll depleted it of fuel, resulting in a hard impact with the ocean.<sup class=\"reference\" id=\"cite_ref-pa20130930_36-2\"><a href=\"#cite_note-pa20130930-36\">[30]</a></sup> This was the first known attempt of a rocket engine being lit to perform a supersonic retro propulsion, and allowed SpaceX to enter a public-private partnership with <a href=\"/wiki/NASA\" title=\"NASA\">NASA</a> and its Mars entry, descent, and landing technologies research projects.<sup class=\"reference\" id=\"cite_ref-40\"><a href=\"#cite_note-40\">[33]</a></sup> <small>(<a href=\"#Maiden_flight_of_v1.1\">more details below</a>)</small>\n</td></tr>\n<tr>\n<th rowspan=\"2\" scope=\"row\" style=\"text-align:center;\">7\n</th>\n<td>3 December 2013,<br/>22:41<sup class=\"reference\" id=\"cite_ref-sfn_wwls20130624_41-0\"><a href=\"#cite_note-sfn_wwls20130624-41\">[34]</a></sup>\n</td>\n<td><a href=\"/wiki/Falcon_9_v1.1\" title=\"Falcon 9 v1.1\">F9 v1.1</a><br/>B1004\n</td>\n<td><a href=\"/wiki/Cape_Canaveral_Space_Force_Station\" title=\"Cape Canaveral Space Force Station\">CCAFS</a>,<br/><a href=\"/wiki/Cape_Canaveral_Space_Launch_Complex_40\" title=\"Cape Canaveral Space Launch Complex 40\">SLC-40</a>\n</td>\n<td><a href=\"/wiki/SES-8\" title=\"SES-8\">SES-8</a><sup class=\"reference\" id=\"cite_ref-sxManifest20120925_28-3\"><a href=\"#cite_note-sxManifest20120925-28\">[22]</a></sup><sup class=\"reference\" id=\"cite_ref-spx-pr_42-0\"><a href=\"#cite_note-spx-pr-42\">[35]</a></sup><sup class=\"reference\" id=\"cite_ref-aw20110323_43-0\"><a href=\"#cite_note-aw20110323-43\">[36]</a></sup>\n</td>\n<td>3,170\u00a0kg (6,990\u00a0lb)\n</td>\n<td><a href=\"/wiki/Geostationary_transfer_orbit\" title=\"Geostationary transfer orbit\">GTO</a>\n</td>\n<td><a href=\"/wiki/SES_S.A.\" title=\"SES S.A.\">SES</a>\n</td>\n<td class=\"table-success\" style=\"background: LightGreen; color: black; vertical-align: middle; text-align: center;\">Success<sup class=\"reference\" id=\"cite_ref-SNMissionStatus7_44-0\"><a href=\"#cite_note-SNMissionStatus7-44\">[37]</a></sup>\n</td>\n<td class=\"table-noAttempt\" style=\"background: #ececec; color: black; vertical-align: middle; white-space: nowrap; text-align: center;\">No attempt<br/><sup class=\"reference\" id=\"cite_ref-sf10120131203_45-0\"><a href=\"#cite_note-sf10120131203-45\">[38]</a></sup>\n</td></tr>\n<tr>\n<td colspan=\"9\">First <a href=\"/wiki/Geostationary_transfer_orbit\" title=\"Geostationary transfer orbit\">Geostationary transfer orbit</a> (GTO) launch for Falcon 9,<sup class=\"reference\" id=\"cite_ref-spx-pr_42-1\"><a href=\"#cite_note-spx-pr-42\">[35]</a></sup> and first successful reignition of the second stage.<sup class=\"reference\" id=\"cite_ref-46\"><a href=\"#cite_note-46\">[39]</a></sup> SES-8 was inserted into a <a href=\"/wiki/Geostationary_transfer_orbit\" title=\"Geostationary transfer orbit\">Super-Synchronous Transfer Orbit</a> of 79,341\u00a0km (49,300\u00a0mi) in apogee with an <a href=\"/wiki/Orbital_inclination\" title=\"Orbital inclination\">inclination</a> of 20.55\u00b0 to the <a href=\"/wiki/Equator\" title=\"Equator\">equator</a>.\n</td></tr></tbody></table>\n"
                }
            ],
            "source": "# Let's print the third table and check its content\nfirst_launch_table = html_tables[2]\nprint(first_launch_table)"
        },
        {
            "cell_type": "markdown",
            "metadata": {},
            "source": "You should able to see the columns names embedded in the table header elements `<th>` as follows:\n"
        },
        {
            "cell_type": "markdown",
            "metadata": {},
            "source": "```\n<tr>\n<th scope=\"col\">Flight No.\n</th>\n<th scope=\"col\">Date and<br/>time (<a href=\"/wiki/Coordinated_Universal_Time\" title=\"Coordinated Universal Time\">UTC</a>)\n</th>\n<th scope=\"col\"><a href=\"/wiki/List_of_Falcon_9_first-stage_boosters\" title=\"List of Falcon 9 first-stage boosters\">Version,<br/>Booster</a> <sup class=\"reference\" id=\"cite_ref-booster_11-0\"><a href=\"#cite_note-booster-11\">[b]</a></sup>\n</th>\n<th scope=\"col\">Launch site\n</th>\n<th scope=\"col\">Payload<sup class=\"reference\" id=\"cite_ref-Dragon_12-0\"><a href=\"#cite_note-Dragon-12\">[c]</a></sup>\n</th>\n<th scope=\"col\">Payload mass\n</th>\n<th scope=\"col\">Orbit\n</th>\n<th scope=\"col\">Customer\n</th>\n<th scope=\"col\">Launch<br/>outcome\n</th>\n<th scope=\"col\"><a href=\"/wiki/Falcon_9_first-stage_landing_tests\" title=\"Falcon 9 first-stage landing tests\">Booster<br/>landing</a>\n</th></tr>\n```\n"
        },
        {
            "cell_type": "markdown",
            "metadata": {},
            "source": "Next, we just need to iterate through the `<th>` elements and apply the provided `extract_column_from_header()` to extract column name one by one\n"
        },
        {
            "cell_type": "code",
            "execution_count": 31,
            "metadata": {},
            "outputs": [
                {
                    "name": "stdout",
                    "output_type": "stream",
                    "text": "Flight No.\nDate and time ( )\nLaunch site\nPayload\nPayload mass\nOrbit\nCustomer\nLaunch outcome\n"
                }
            ],
            "source": "column_names = []\n\n# Apply find_all() function with `th` element on first_launch_table\n# Iterate each th element and apply the provided extract_column_from_header() to get a column name\n# Append the Non-empty column name (`if name is not None and len(name) > 0`) into a list called column_names\nfor th in first_launch_table.find_all('th'):\n    head = extract_column_from_header(th)\n    if head != None and len(head) > 0:\n        print(head)\n        column_names.append(head)\n    "
        },
        {
            "cell_type": "markdown",
            "metadata": {},
            "source": "Check the extracted column names\n"
        },
        {
            "cell_type": "code",
            "execution_count": 32,
            "metadata": {},
            "outputs": [
                {
                    "name": "stdout",
                    "output_type": "stream",
                    "text": "['Flight No.', 'Date and time ( )', 'Launch site', 'Payload', 'Payload mass', 'Orbit', 'Customer', 'Launch outcome']\n"
                }
            ],
            "source": "print(column_names)"
        },
        {
            "cell_type": "markdown",
            "metadata": {},
            "source": "## TASK 3: Create a data frame by parsing the launch HTML tables\n"
        },
        {
            "cell_type": "markdown",
            "metadata": {},
            "source": "We will create an empty dictionary with keys from the extracted column names in the previous task. Later, this dictionary will be converted into a Pandas dataframe\n"
        },
        {
            "cell_type": "code",
            "execution_count": 33,
            "metadata": {},
            "outputs": [],
            "source": "launch_dict= dict.fromkeys(column_names)"
        },
        {
            "cell_type": "code",
            "execution_count": 34,
            "metadata": {},
            "outputs": [
                {
                    "data": {
                        "text/plain": "{'Flight No.': None,\n 'Date and time ( )': None,\n 'Launch site': None,\n 'Payload': None,\n 'Payload mass': None,\n 'Orbit': None,\n 'Customer': None,\n 'Launch outcome': None}"
                    },
                    "execution_count": 34,
                    "metadata": {},
                    "output_type": "execute_result"
                }
            ],
            "source": "launch_dict"
        },
        {
            "cell_type": "code",
            "execution_count": 79,
            "metadata": {},
            "outputs": [],
            "source": "launch_dict= dict.fromkeys(column_names)\n\n# Remove an irrelvant column\ndel launch_dict['Date and time ( )']\n\n# Let's initial the launch_dict with each value to be an empty list\nlaunch_dict['Flight No.'] = []\nlaunch_dict['Launch site'] = []\nlaunch_dict['Payload'] = []\nlaunch_dict['Payload mass'] = []\nlaunch_dict['Orbit'] = []\nlaunch_dict['Customer'] = []\nlaunch_dict['Launch outcome'] = []\n# Added some new columns\nlaunch_dict['Version Booster']=[]\nlaunch_dict['Booster landing']=[]\nlaunch_dict['Date']=[]\nlaunch_dict['Time']=[]"
        },
        {
            "cell_type": "code",
            "execution_count": 80,
            "metadata": {},
            "outputs": [
                {
                    "data": {
                        "text/plain": "{'Flight No.': [],\n 'Launch site': [],\n 'Payload': [],\n 'Payload mass': [],\n 'Orbit': [],\n 'Customer': [],\n 'Launch outcome': [],\n 'Version Booster': [],\n 'Booster landing': [],\n 'Date': [],\n 'Time': []}"
                    },
                    "execution_count": 80,
                    "metadata": {},
                    "output_type": "execute_result"
                }
            ],
            "source": "launch_dict"
        },
        {
            "cell_type": "markdown",
            "metadata": {},
            "source": "Next, we just need to fill up the `launch_dict` with launch records extracted from table rows.\n"
        },
        {
            "cell_type": "markdown",
            "metadata": {},
            "source": "Usually, HTML tables in Wiki pages are likely to contain unexpected annotations and other types of noises, such as reference links `B0004.1[8]`, missing values `N/A [e]`, inconsistent formatting, etc.\n"
        },
        {
            "cell_type": "markdown",
            "metadata": {},
            "source": "To simplify the parsing process, we have provided an incomplete code snippet below to help you to fill up the `launch_dict`. Please complete the following code snippet with TODOs or you can choose to write your own logic to parse all launch tables:\n"
        },
        {
            "cell_type": "code",
            "execution_count": 82,
            "metadata": {},
            "outputs": [
                {
                    "name": "stdout",
                    "output_type": "stream",
                    "text": "1 - FN: 1\n1 - Date: 4 June 2010\n1 - Time: 18:45\n1 - BV: F9 v1.0B0003.1\n1 - Site: CCAFS\n1 - pl: Dragon Spacecraft Qualification Unit\n1 - plm: 0\n1 - Orbit: LEO\n1 - Cust: SpaceX\n1 - out: Success\n\n1 - land: Failure\n2 - FN: 2\n2 - Date: 8 December 2010\n2 - Time: 15:43\n2 - BV: F9 v1.0B0004.1\n2 - Site: CCAFS\n2 - pl: Dragon\n2 - plm: 0\n2 - Orbit: LEO\n2 - Cust: NASA\n2 - out: Success\n2 - land: Failure\n3 - FN: 3\n3 - Date: 22 May 2012\n3 - Time: 07:44\n3 - BV: F9 v1.0B0005.1\n3 - Site: CCAFS\n3 - pl: Dragon\n3 - plm: 525 kg\n3 - Orbit: LEO\n3 - Cust: NASA\n3 - out: Success\n3 - land: No attempt\n\n4 - FN: 4\n4 - Date: 8 October 2012\n4 - Time: 00:35\n4 - BV: F9 v1.0B0006.1\n4 - Site: CCAFS\n4 - pl: SpaceX CRS-1\n4 - plm: 4,700 kg\n4 - Orbit: LEO\n4 - Cust: NASA\n4 - out: Success\n\n4 - land: No attempt\n5 - FN: 5\n5 - Date: 1 March 2013\n5 - Time: 15:10\n5 - BV: F9 v1.0B0007.1\n5 - Site: CCAFS\n5 - pl: SpaceX CRS-2\n5 - plm: 4,877 kg\n5 - Orbit: LEO\n5 - Cust: NASA\n5 - out: Success\n\n5 - land: No attempt\n\n6 - FN: 6\n6 - Date: 29 September 2013\n6 - Time: 16:00\n6 - BV: F9 v1.1B1003\n6 - Site: VAFB\n6 - pl: CASSIOPE\n6 - plm: 500 kg\n6 - Orbit: Polar orbit\n6 - Cust: MDA\n6 - out: Success\n6 - land: Uncontrolled\n7 - FN: 7\n7 - Date: 3 December 2013\n7 - Time: 22:41\n7 - BV: F9 v1.1\n7 - Site: CCAFS\n7 - pl: SES-8\n7 - plm: 3,170 kg\n7 - Orbit: GTO\n7 - Cust: SES\n7 - out: Success\n7 - land: No attempt\n8 - FN: 8\n8 - Date: 6 January 2014\n8 - Time: 22:06\n8 - BV: F9 v1.1\n8 - Site: CCAFS\n8 - pl: Thaicom 6\n8 - plm: 3,325 kg\n8 - Orbit: GTO\n8 - Cust: Thaicom\n8 - out: Success\n8 - land: No attempt\n9 - FN: 9\n9 - Date: 18 April 2014\n9 - Time: 19:25\n9 - BV: F9 v1.1\n9 - Site: Cape Canaveral\n9 - pl: SpaceX CRS-3\n9 - plm: 2,296 kg\n9 - Orbit: LEO\n9 - Cust: NASA\n9 - out: Success\n\n9 - land: Controlled\n10 - FN: 10\n10 - Date: 14 July 2014\n10 - Time: 15:15\n10 - BV: F9 v1.1\n10 - Site: Cape Canaveral\n10 - pl: Orbcomm-OG2\n10 - plm: 1,316 kg\n10 - Orbit: LEO\n10 - Cust: Orbcomm\n10 - out: Success\n10 - land: Controlled\n11 - FN: 11\n11 - Date: 5 August 2014\n11 - Time: 08:00\n11 - BV: F9 v1.1\n11 - Site: Cape Canaveral\n11 - pl: AsiaSat 8\n11 - plm: 4,535 kg\n11 - Orbit: GTO\n11 - Cust: AsiaSat\n11 - out: Success\n11 - land: No attempt\n12 - FN: 12\n12 - Date: 7 September 2014\n12 - Time: 05:00\n12 - BV: F9 v1.1\n12 - Site: Cape Canaveral\n12 - pl: AsiaSat 6\n12 - plm: 4,428 kg\n12 - Orbit: GTO\n12 - Cust: AsiaSat\n12 - out: Success\n12 - land: No attempt\n\n13 - FN: 13\n13 - Date: 21 September 2014\n13 - Time: 05:52\n13 - BV: F9 v1.1\n13 - Site: Cape Canaveral\n13 - pl: SpaceX CRS-4\n13 - plm: 2,216 kg\n13 - Orbit: LEO\n13 - Cust: NASA\n13 - out: Success\n13 - land: Uncontrolled\n14 - FN: 14\n14 - Date: 10 January 2015\n14 - Time: 09:47\n14 - BV: F9 v1.1\n14 - Site: Cape Canaveral\n14 - pl: SpaceX CRS-5\n14 - plm: 2,395 kg\n14 - Orbit: LEO\n14 - Cust: NASA\n14 - out: Success\n14 - land: Failure \n15 - FN: 15\n15 - Date: 11 February 2015\n15 - Time: 23:03\n15 - BV: F9 v1.1\n15 - Site: Cape Canaveral\n15 - pl: DSCOVR\n15 - plm: 570 kg\n15 - Orbit: HEO\n15 - Cust: USAF\n15 - out: Success\n\n15 - land: Controlled\n16 - FN: 16\n16 - Date: 2 March 2015\n16 - Time: 03:50\n16 - BV: F9 v1.1\n16 - Site: Cape Canaveral\n16 - pl: ABS-3A\n16 - plm: 4,159 kg\n16 - Orbit: GTO\n16 - Cust: ABS\n16 - out: Success\n\n16 - land: No attempt\n17 - FN: 17\n17 - Date: 14 April 2015\n17 - Time: 20:10\n17 - BV: F9 v1.1\n17 - Site: Cape Canaveral\n17 - pl: SpaceX CRS-6\n17 - plm: 1,898 kg\n17 - Orbit: LEO\n17 - Cust: NASA\n17 - out: Success\n\n17 - land: Failure\n18 - FN: 18\n18 - Date: 27 April 2015\n18 - Time: 23:03\n18 - BV: F9 v1.1\n18 - Site: Cape Canaveral\n18 - pl: T\u00fcrkmen\u00c4lem 52\u00b0E / MonacoSAT\n18 - plm: 4,707 kg\n18 - Orbit: GTO\n18 - Cust: None\n18 - out: Success\n\n18 - land: No attempt\n19 - FN: 19\n19 - Date: 28 June 2015\n19 - Time: 14:21\n19 - BV: F9 v1.1\n19 - Site: Cape Canaveral\n19 - pl: SpaceX CRS-7\n19 - plm: 1,952 kg\n19 - Orbit: LEO\n19 - Cust: NASA\n19 - out: Failure\n19 - land: Precluded\n20 - FN: 20\n20 - Date: 22 December 2015\n20 - Time: 01:29\n20 - BV: F9 FT\n20 - Site: Cape Canaveral\n20 - pl: Orbcomm-OG2\n20 - plm: 2,034 kg\n20 - Orbit: LEO\n20 - Cust: Orbcomm\n20 - out: Success\n\n20 - land: Success\n21 - FN: 21\n21 - Date: 17 January 2016\n21 - Time: 18:42\n21 - BV: F9 v1.1\n21 - Site: VAFB\n21 - pl: Jason-3\n21 - plm: 553 kg\n21 - Orbit: LEO\n21 - Cust: NASA\n21 - out: Success\n\n21 - land: Failure\n22 - FN: 22\n22 - Date: 4 March 2016\n22 - Time: 23:35\n22 - BV: F9 FT\n22 - Site: Cape Canaveral\n22 - pl: SES-9\n22 - plm: 5,271 kg\n22 - Orbit: GTO\n22 - Cust: SES\n22 - out: Success\n\n22 - land: Failure\n23 - FN: 23\n23 - Date: 8 April 2016\n23 - Time: 20:43\n23 - BV: F9 FT\n23 - Site: Cape Canaveral\n23 - pl: SpaceX CRS-8\n23 - plm: 3,136 kg\n23 - Orbit: LEO\n23 - Cust: NASA\n23 - out: Success\n23 - land: Success\n24 - FN: 24\n24 - Date: 6 May 2016\n24 - Time: 05:21\n24 - BV: F9 FT\n24 - Site: Cape Canaveral\n24 - pl: JCSAT-14\n24 - plm: 4,696 kg\n24 - Orbit: GTO\n24 - Cust: SKY Perfect JSAT Group\n24 - out: Success\n\n24 - land: Success\n25 - FN: 25\n25 - Date: 27 May 2016\n25 - Time: 21:39\n25 - BV: F9 FT\n25 - Site: Cape Canaveral\n25 - pl: Thaicom 8\n25 - plm: 3,100 kg\n25 - Orbit: GTO\n25 - Cust: Thaicom\n25 - out: Success\n\n25 - land: Success\n26 - FN: 26\n26 - Date: 15 June 2016\n26 - Time: 14:29\n26 - BV: F9 FT\n26 - Site: Cape Canaveral\n26 - pl: ABS-2A\n26 - plm: 3,600 kg\n26 - Orbit: GTO\n26 - Cust: ABS\n26 - out: Success\n\n26 - land: Failure\n27 - FN: 27\n27 - Date: 18 July 2016\n27 - Time: 04:45\n27 - BV: F9 FT\n27 - Site: Cape Canaveral\n27 - pl: SpaceX CRS-9\n27 - plm: 2,257 kg\n27 - Orbit: LEO\n27 - Cust: NASA\n27 - out: Success\n\n27 - land: Success\n28 - FN: 28\n28 - Date: 14 August 2016\n28 - Time: 05:26\n28 - BV: F9 FT\n28 - Site: Cape Canaveral\n28 - pl: JCSAT-16\n28 - plm: 4,600 kg\n28 - Orbit: GTO\n28 - Cust: SKY Perfect JSAT Group\n28 - out: Success\n\n28 - land: Success\n29 - FN: 29\n29 - Date: 14 January 2017\n29 - Time: 17:54\n29 - BV: F9 FT\n29 - Site: VAFB\n29 - pl: Iridium NEXT\n29 - plm: 9,600 kg\n29 - Orbit: Polar\n29 - Cust: Iridium Communications\n29 - out: Success\n\n29 - land: Success\n30 - FN: 30\n30 - Date: 19 February 2017\n30 - Time: 14:39\n30 - BV: F9 FT\n30 - Site: KSC\n30 - pl: SpaceX CRS-10\n30 - plm: 2,490 kg\n30 - Orbit: LEO\n30 - Cust: NASA\n30 - out: Success\n\n30 - land: Success\n31 - FN: 31\n31 - Date: 16 March 2017\n31 - Time: 06:00\n31 - BV: F9 FT\n31 - Site: KSC\n31 - pl: EchoStar 23\n31 - plm: 5,600 kg\n31 - Orbit: GTO\n31 - Cust: EchoStar\n31 - out: Success\n\n31 - land: No attempt\n32 - FN: 32\n32 - Date: 30 March 2017\n32 - Time: 22:27\n32 - BV: F9 FT\u267a\n32 - Site: KSC\n32 - pl: SES-10\n32 - plm: 5,300 kg\n32 - Orbit: GTO\n32 - Cust: SES\n32 - out: Success\n32 - land: Success\n33 - FN: 33\n33 - Date: 1 May 2017\n33 - Time: 11:15\n33 - BV: F9 FT\n33 - Site: KSC\n33 - pl: NROL-76\n33 - plm: C\n33 - Orbit: LEO\n33 - Cust: NRO\n33 - out: Success\n\n33 - land: Success\n34 - FN: 34\n34 - Date: 15 May 2017\n34 - Time: 23:21\n34 - BV: F9 FT\n34 - Site: KSC\n34 - pl: Inmarsat-5 F4\n34 - plm: 6,070 kg\n34 - Orbit: GTO\n34 - Cust: Inmarsat\n34 - out: Success\n\n34 - land: No attempt\n35 - FN: 35\n35 - Date: 3 June 2017\n35 - Time: 21:07\n35 - BV: F9 FT\n35 - Site: KSC\n35 - pl: SpaceX CRS-11\n35 - plm: 2,708 kg\n35 - Orbit: LEO\n35 - Cust: NASA\n35 - out: Success\n\n35 - land: Success\n36 - FN: 36\n36 - Date: 23 June 2017\n36 - Time: 19:10\n36 - BV: F9 FTB1029.2\n36 - Site: KSC\n36 - pl: BulgariaSat-1\n36 - plm: 3,669 kg\n36 - Orbit: GTO\n36 - Cust: Bulsatcom\n36 - out: Success\n\n36 - land: Success\n37 - FN: 37\n37 - Date: 25 June 2017\n37 - Time: 20:25\n37 - BV: F9 FT\n37 - Site: VAFB\n37 - pl: Iridium NEXT\n37 - plm: 9,600 kg\n37 - Orbit: LEO\n37 - Cust: Iridium Communications\n37 - out: Success\n\n37 - land: Success\n38 - FN: 38\n38 - Date: 5 July 2017\n38 - Time: 23:38\n38 - BV: F9 FT\n38 - Site: KSC\n38 - pl: Intelsat 35e\n38 - plm: 6,761 kg\n38 - Orbit: GTO\n38 - Cust: Intelsat\n38 - out: Success\n\n38 - land: No attempt\n39 - FN: 39\n39 - Date: 14 August 2017\n39 - Time: 16:31\n39 - BV: F9 B4\n39 - Site: KSC\n39 - pl: SpaceX CRS-12\n39 - plm: 3,310 kg\n39 - Orbit: LEO\n39 - Cust: NASA\n39 - out: Success\n\n39 - land: Success\n40 - FN: 40\n40 - Date: 24 August 2017\n40 - Time: 18:51\n40 - BV: F9 FT\n40 - Site: VAFB\n40 - pl: Formosat-5\n40 - plm: 475 kg\n40 - Orbit: SSO\n40 - Cust: NSPO\n40 - out: Success\n\n40 - land: Success\n41 - FN: 41\n41 - Date: 7 September 2017\n41 - Time: 14:00\n41 - BV: F9 B4\n41 - Site: KSC\n41 - pl: Boeing X-37B\n41 - plm: 4,990 kg\n41 - Orbit: LEO\n41 - Cust: USAF\n41 - out: Success\n\n41 - land: Success\n42 - FN: 42\n42 - Date: 9 October 2017\n42 - Time: 12:37\n42 - BV: F9 B4\n42 - Site: VAFB\n42 - pl: Iridium NEXT\n42 - plm: 9,600 kg\n42 - Orbit: Polar\n42 - Cust: Iridium Communications\n42 - out: Success\n\n42 - land: Success\n43 - FN: 43\n43 - Date: 11 October 2017\n43 - Time: 22:53:00\n43 - BV: F9 FTB1031.2\n43 - Site: KSC\n43 - pl: SES-11\n43 - plm: 5,200 kg\n43 - Orbit: GTO\n43 - Cust: SES S.A.\n43 - out: Success\n\n43 - land: Success\n44 - FN: 44\n44 - Date: 30 October 2017\n44 - Time: 19:34\n44 - BV: F9 B4\n44 - Site: KSC\n44 - pl: Koreasat 5A\n44 - plm: 3,500 kg\n44 - Orbit: GTO\n44 - Cust: KT Corporation\n44 - out: Success\n\n44 - land: Success\n45 - FN: 45\n45 - Date: 15 December 2017\n45 - Time: 15:36\n45 - BV: F9 FTB1035.2\n45 - Site: Cape Canaveral\n45 - pl: SpaceX CRS-13\n45 - plm: 2,205 kg\n45 - Orbit: LEO\n45 - Cust: NASA\n45 - out: Success\n\n45 - land: Success\n46 - FN: 46\n46 - Date: 23 December 2017\n46 - Time: 01:27\n46 - BV: F9 FTB1036.2\n46 - Site: VAFB\n46 - pl: Iridium NEXT\n46 - plm: 9,600 kg\n46 - Orbit: Polar\n46 - Cust: Iridium Communications\n46 - out: Success\n46 - land: Controlled\n47 - FN: 47\n47 - Date: 8 January 2018\n47 - Time: 01:00\n47 - BV: F9 B4\n47 - Site: CCAFS\n47 - pl: Zuma\n47 - plm: C\n47 - Orbit: LEO\n47 - Cust: Northrop Grumman\n47 - out: Success\n47 - land: Success\n48 - FN: 48\n48 - Date: 31 January 2018\n48 - Time: 21:25\n48 - BV: F9 FTB1032.2\n48 - Site: CCAFS\n48 - pl: GovSat-1\n48 - plm: 4,230 kg\n48 - Orbit: GTO\n48 - Cust: SES\n48 - out: Success\n48 - land: Controlled\n49 - FN: 49\n49 - Date: 22 February 2018\n49 - Time: 14:17\n49 - BV: F9 FTB1038.2\n49 - Site: VAFB\n49 - pl: Paz\n49 - plm: 2,150 kg\n49 - Orbit: SSO\n49 - Cust: Hisdesat\n49 - out: Success\n49 - land: No attempt\n50 - FN: 50\n50 - Date: 6 March 2018\n50 - Time: 05:33\n50 - BV: F9 B4\n50 - Site: CCAFS\n50 - pl: Hispasat 30W-6\n50 - plm: 6,092 kg\n50 - Orbit: GTO\n50 - Cust: Hispasat\n50 - out: Success\n50 - land: No attempt\n51 - FN: 51\n51 - Date: 30 March 2018\n51 - Time: 14:14\n51 - BV: F9 B4B1041.2\n51 - Site: VAFB\n51 - pl: Iridium NEXT\n51 - plm: 9,600 kg\n51 - Orbit: Polar\n51 - Cust: Iridium Communications\n51 - out: Success\n51 - land: No attempt\n52 - FN: 52\n52 - Date: 2 April 2018\n52 - Time: 20:30\n52 - BV: F9 B4B1039.2\n52 - Site: CCAFS\n52 - pl: SpaceX CRS-14\n52 - plm: 2,647 kg\n52 - Orbit: LEO\n52 - Cust: NASA\n52 - out: Success\n52 - land: No attempt\n53 - FN: 53\n53 - Date: 18 April 2018\n53 - Time: 22:51\n53 - BV: F9 B4\n53 - Site: CCAFS\n53 - pl: Transiting Exoplanet Survey Satellite\n53 - plm: 362 kg\n53 - Orbit: HEO\n53 - Cust: NASA\n53 - out: Success\n53 - land: Success\n54 - FN: 54\n54 - Date: 11 May 2018\n54 - Time: 20:14\n54 - BV: F9 B5B1046.1\n54 - Site: KSC\n54 - pl: Bangabandhu-1\n54 - plm: 3,600 kg\n54 - Orbit: GTO\n54 - Cust: Thales-Alenia\n54 - out: Success\n54 - land: Success\n55 - FN: 55\n55 - Date: 22 May 2018\n55 - Time: 19:47\n55 - BV: F9 B4B1043.2\n55 - Site: VAFB\n55 - pl: Iridium NEXT\n55 - plm: 6,460 kg\n55 - Orbit: Polar\n55 - Cust: Iridium Communications\n55 - out: Success\n55 - land: No attempt\n56 - FN: 56\n56 - Date: 4 June 2018\n56 - Time: 04:45\n56 - BV: F9 B4B1040.2\n56 - Site: CCAFS\n56 - pl: SES-12\n56 - plm: 5,384 kg\n56 - Orbit: GTO\n56 - Cust: SES\n56 - out: Success\n56 - land: No attempt\n57 - FN: 57\n57 - Date: 29 June 2018\n57 - Time: 09:42\n57 - BV: F9 B4B1045.2\n57 - Site: CCAFS\n57 - pl: SpaceX CRS-15\n57 - plm: 2,697 kg\n57 - Orbit: LEO\n57 - Cust: NASA\n57 - out: Success\n57 - land: No attempt\n58 - FN: 58\n58 - Date: 22 July 2018\n58 - Time: 05:50\n58 - BV: F9 B5\n58 - Site: CCAFS\n58 - pl: Telstar 19V\n58 - plm: 7,075 kg\n58 - Orbit: GTO\n58 - Cust: Telesat\n58 - out: Success\n58 - land: Success\n59 - FN: 59\n59 - Date: 25 July 2018\n59 - Time: 11:39\n59 - BV: F9 B5B1048\n59 - Site: VAFB\n59 - pl: Iridium NEXT\n59 - plm: 9,600 kg\n59 - Orbit: Polar\n59 - Cust: Iridium Communications\n59 - out: Success\n59 - land: Success\n60 - FN: 60\n60 - Date: 7 August 2018\n60 - Time: 05:18\n60 - BV: F9 B5B1046.2\n60 - Site: CCAFS\n60 - pl: Merah Putih\n60 - plm: 5,800 kg\n60 - Orbit: GTO\n60 - Cust: Telkom Indonesia\n60 - out: Success\n60 - land: Success\n61 - FN: 61\n61 - Date: 10 September 2018\n61 - Time: 04:45\n61 - BV: F9 B5\n61 - Site: CCAFS\n61 - pl: Telstar 18V\n61 - plm: 7,060 kg\n61 - Orbit: GTO\n61 - Cust: Telesat\n61 - out: Success\n61 - land: Success\n62 - FN: 62\n62 - Date: 8 October 2018\n62 - Time: 02:22\n62 - BV: F9 B5B1048.2\n62 - Site: VAFB\n62 - pl: SAOCOM 1A\n62 - plm: 3,000 kg\n62 - Orbit: SSO\n62 - Cust: CONAE\n62 - out: Success\n62 - land: Success\n63 - FN: 63\n63 - Date: 15 November 2018\n63 - Time: 20:46\n63 - BV: F9 B5B1047.2\n63 - Site: KSC\n63 - pl: Es'hail 2\n63 - plm: 5,300 kg\n63 - Orbit: GTO\n63 - Cust: Es'hailSat\n63 - out: Success\n63 - land: Success\n64 - FN: 64\n64 - Date: 3 December 2018\n64 - Time: 18:34:05\n64 - BV: F9 B5B1046.3\n64 - Site: VAFB\n64 - pl: SSO-A\n64 - plm: ~4,000 kg\n64 - Orbit: SSO\n64 - Cust: Spaceflight Industries\n64 - out: Success\n64 - land: Success\n65 - FN: 65\n65 - Date: 5 December 2018\n65 - Time: 18:16\n65 - BV: F9 B5\n65 - Site: CCAFS\n65 - pl: SpaceX CRS-16\n65 - plm: 2,500 kg\n65 - Orbit: LEO\n65 - Cust: NASA\n65 - out: Success\n\n65 - land: Failure\n66 - FN: 66\n66 - Date: 23 December 2018\n66 - Time: 13:51\n66 - BV: F9 B5\n66 - Site: CCAFS\n66 - pl: GPS III\n66 - plm: 4,400 kg\n66 - Orbit: MEO\n66 - Cust: USAF\n66 - out: Success\n66 - land: No attempt\n67 - FN: 67\n67 - Date: 11 January 2019\n67 - Time: 15:31\n67 - BV: F9 B5B1049.2\n67 - Site: VAFB\n67 - pl: Iridium NEXT\n67 - plm: 9,600 kg\n67 - Orbit: Polar\n67 - Cust: Iridium Communications\n67 - out: Success\n\n67 - land: Success\n68 - FN: 68\n68 - Date: 22 February 2019\n68 - Time: 01:45\n68 - BV: F9 B5B1048.3\n68 - Site: CCAFS\n68 - pl: Nusantara Satu\n68 - plm: 4,850 kg\n68 - Orbit: GTO\n68 - Cust: PSN\n68 - out: Success\n\n68 - land: Success\n69 - FN: 69\n69 - Date: 2 March 2019\n69 - Time: 07:49\n69 - BV: F9 B5[268]\n69 - Site: KSC\n69 - pl: Crew Dragon Demo-1\n69 - plm: 12,055 kg\n69 - Orbit: LEO\n69 - Cust: NASA\n69 - out: Success\n\n69 - land: Success\n70 - FN: 70\n70 - Date: 4 May 2019\n70 - Time: 06:48\n70 - BV: F9 B5\n70 - Site: CCAFS\n70 - pl: SpaceX CRS-17\n70 - plm: 2,495 kg\n70 - Orbit: LEO\n70 - Cust: NASA\n70 - out: Success\n\n70 - land: Success\n71 - FN: 71\n71 - Date: 24 May 2019\n71 - Time: 02:30\n71 - BV: F9 B5B1049.3\n71 - Site: CCAFS\n71 - pl: Starlink\n71 - plm: 13,620 kg\n71 - Orbit: LEO\n71 - Cust: SpaceX\n71 - out: Success\n\n71 - land: Success\n72 - FN: 72\n72 - Date: 12 June 2019\n72 - Time: 14:17\n72 - BV: F9 B5B1051.2\n72 - Site: VAFB\n72 - pl: RADARSAT Constellation\n72 - plm: 4,200 kg\n72 - Orbit: SSO\n72 - Cust: Canadian Space Agency\n72 - out: Success\n\n72 - land: Success\n73 - FN: 73\n73 - Date: 25 July 2019\n73 - Time: 22:01\n73 - BV: F9 B5B1056.2\n73 - Site: CCAFS\n73 - pl: SpaceX CRS-18\n73 - plm: 2,268 kg\n73 - Orbit: LEO\n73 - Cust: NASA\n73 - out: Success\n\n73 - land: Success\n74 - FN: 74\n74 - Date: 6 August 2019\n74 - Time: 23:23\n74 - BV: F9 B5B1047.3\n74 - Site: CCAFS\n74 - pl: AMOS-17\n74 - plm: 6,500 kg\n74 - Orbit: GTO\n74 - Cust: Spacecom\n74 - out: Success\n\n74 - land: No attempt\n75 - FN: 75\n75 - Date: 11 November 2019\n75 - Time: 14:56\n75 - BV: F9 B5\n75 - Site: CCAFS\n75 - pl: Starlink\n75 - plm: 15,600 kg\n75 - Orbit: LEO\n75 - Cust: SpaceX\n75 - out: Success\n\n75 - land: Success\n76 - FN: 76\n76 - Date: 5 December 2019\n76 - Time: 17:29\n76 - BV: F9 B5\n76 - Site: CCAFS\n76 - pl: SpaceX CRS-19\n76 - plm: 2,617 kg\n76 - Orbit: LEO\n76 - Cust: NASA\n76 - out: Success\n\n76 - land: Success\n77 - FN: 77\n77 - Date: 17 December 2019\n77 - Time: 00:10\n77 - BV: F9 B5B1056.3\n77 - Site: CCAFS\n77 - pl: JCSat-18\n77 - plm: 6,956 kg\n77 - Orbit: GTO\n77 - Cust: Sky Perfect JSAT\n77 - out: Success\n\n77 - land: Success\n78 - FN: 78\n78 - Date: 7 January 2020\n78 - Time: 02:19:21\n78 - BV: F9 B5\n78 - Site: CCAFS\n78 - pl: Starlink\n78 - plm: 15,600 kg\n78 - Orbit: LEO\n78 - Cust: SpaceX\n78 - out: Success\n\n78 - land: Success\n79 - FN: 79\n79 - Date: 19 January 2020\n79 - Time: 15:30\n79 - BV: F9 B5\n79 - Site: KSC\n79 - pl: Crew Dragon in-flight abort test\n79 - plm: 12,050 kg\n79 - Orbit: Sub-orbital\n79 - Cust: NASA\n79 - out: Success\n\n79 - land: No attempt\n\n80 - FN: 80\n80 - Date: 29 January 2020\n80 - Time: 14:07\n80 - BV: F9 B5\n80 - Site: CCAFS\n80 - pl: Starlink\n80 - plm: 15,600 kg\n80 - Orbit: LEO\n80 - Cust: SpaceX\n80 - out: Success\n\n80 - land: Success\n81 - FN: 81\n81 - Date: 17 February 2020\n81 - Time: 15:05\n81 - BV: F9 B5\n81 - Site: CCAFS\n81 - pl: Starlink\n81 - plm: 15,600 kg\n81 - Orbit: LEO\n81 - Cust: SpaceX\n81 - out: Success\n\n81 - land: Failure\n82 - FN: 82\n82 - Date: 7 March 2020\n82 - Time: 04:50\n82 - BV: F9 B5\n82 - Site: CCAFS\n82 - pl: SpaceX CRS-20\n82 - plm: 1,977 kg\n82 - Orbit: LEO\n82 - Cust: NASA\n82 - out: Success\n\n82 - land: Success\n83 - FN: 83\n83 - Date: 18 March 2020\n83 - Time: 12:16\n83 - BV: F9 B5\n83 - Site: KSC\n83 - pl: Starlink\n83 - plm: 15,600 kg\n83 - Orbit: LEO\n83 - Cust: SpaceX\n83 - out: Success\n\n83 - land: Failure\n84 - FN: 84\n84 - Date: 22 April 2020\n84 - Time: 19:30\n84 - BV: F9 B5\n84 - Site: KSC\n84 - pl: Starlink\n84 - plm: 15,600 kg\n84 - Orbit: LEO\n84 - Cust: SpaceX\n84 - out: Success\n\n84 - land: Success\n85 - FN: 85\n85 - Date: 30 May 2020\n85 - Time: 19:22\n85 - BV: F9 B5\n85 - Site: KSC\n85 - pl: Crew Dragon Demo-2\n85 - plm: 12,530 kg\n85 - Orbit: LEO\n85 - Cust: NASA\n85 - out: Success\n\n85 - land: Success\n86 - FN: 86\n86 - Date: 4 June 2020\n86 - Time: 01:25\n86 - BV: F9 B5\n86 - Site: CCAFS\n86 - pl: Starlink\n86 - plm: 15,600 kg\n86 - Orbit: LEO\n86 - Cust: SpaceX\n86 - out: Success\n\n86 - land: Success\n87 - FN: 87\n87 - Date: 13 June 2020\n87 - Time: 09:21\n87 - BV: F9 B5\n87 - Site: CCAFS\n87 - pl: Starlink\n87 - plm: 15,410 kg\n87 - Orbit: LEO\n87 - Cust: SpaceX\n87 - out: Success\n\n87 - land: Success\n88 - FN: 88\n88 - Date: 30 June 2020\n88 - Time: 20:10:46\n88 - BV: F9 B5\n88 - Site: CCAFS\n88 - pl: GPS III\n88 - plm: 4,311 kg\n88 - Orbit: MEO\n88 - Cust: U.S. Space Force\n88 - out: Success\n\n88 - land: Success\n89 - FN: 89\n89 - Date: 20 July 2020\n89 - Time: 21:30\n89 - BV: F9 B5B1058.2\n89 - Site: CCAFS\n89 - pl: ANASIS-II\n89 - plm: 5,000\u20136,000 kg\n89 - Orbit: GTO\n89 - Cust: Republic of Korea Army\n89 - out: Success\n\n89 - land: Success\n90 - FN: 90\n90 - Date: 7 August 2020\n90 - Time: 05:12\n90 - BV: F9 B5\n90 - Site: KSC\n90 - pl: Starlink\n90 - plm: 14,932 kg\n90 - Orbit: LEO\n90 - Cust: SpaceX\n90 - out: Success\n\n90 - land: Success\n91 - FN: 91\n91 - Date: 18 August 2020\n91 - Time: 14:31\n91 - BV: F9 B5B1049.6\n91 - Site: CCAFS\n91 - pl: Starlink\n91 - plm: ~15,440 kg\n91 - Orbit: LEO\n91 - Cust: SpaceX\n91 - out: Success\n\n91 - land: Success\n92 - FN: 92\n92 - Date: 30 August 2020\n92 - Time: 23:18\n92 - BV: F9 B5\n92 - Site: CCAFS\n92 - pl: SAOCOM 1B\n92 - plm: 3,130 kg\n92 - Orbit: SSO\n92 - Cust: CONAE\n92 - out: Success\n\n92 - land: Success\n93 - FN: 93\n93 - Date: 3 September 2020\n93 - Time: 12:46:14\n93 - BV: F9 B5B1060.2\n93 - Site: KSC\n93 - pl: Starlink\n93 - plm: 15,600 kg\n93 - Orbit: LEO\n93 - Cust: SpaceX\n93 - out: Success\n\n93 - land: Success\n94 - FN: 94\n94 - Date: 6 October 2020\n94 - Time: 11:29:34\n94 - BV: F9 B5B1058.3\n94 - Site: KSC\n94 - pl: Starlink\n94 - plm: 15,600 kg\n94 - Orbit: LEO\n94 - Cust: SpaceX\n94 - out: Success\n\n94 - land: Success\n95 - FN: 95\n95 - Date: 18 October 2020\n95 - Time: 12:25:57\n95 - BV: F9 B5B1051.6\n95 - Site: KSC\n95 - pl: Starlink\n95 - plm: 15,600 kg\n95 - Orbit: LEO\n95 - Cust: SpaceX\n95 - out: Success\n\n95 - land: Success\n96 - FN: 96\n96 - Date: 24 October 2020\n96 - Time: 15:31:34\n96 - BV: F9 B5\n96 - Site: CCAFS\n96 - pl: Starlink\n96 - plm: 15,600 kg\n96 - Orbit: LEO\n96 - Cust: SpaceX\n96 - out: Success\n\n96 - land: Success\n97 - FN: 97\n97 - Date: 5 November 2020\n97 - Time: 23:24:23\n97 - BV: F9 B5\n97 - Site: CCAFS\n97 - pl: GPS III\n97 - plm: 4,311 kg\n97 - Orbit: MEO\n97 - Cust: USSF\n97 - out: Success\n\n97 - land: Success\n98 - FN: 98\n98 - Date: 16 November 2020\n98 - Time: 00:27\n98 - BV: F9 B5\n98 - Site: KSC\n98 - pl: Crew-1\n98 - plm: ~12,500 kg\n98 - Orbit: LEO\n98 - Cust: NASA\n98 - out: Success\n\n98 - land: Success\n99 - FN: 99\n99 - Date: 21 November 2020\n99 - Time: 17:17:08\n99 - BV: F9 B5\n99 - Site: VAFB\n99 - pl: Sentinel-6 Michael Freilich (Jason-CS A)\n99 - plm: 1,192 kg\n99 - Orbit: LEO\n99 - Cust: NASA\n99 - out: Success\n\n99 - land: Success\n100 - FN: 100\n100 - Date: 25 November 2020\n100 - Time: 02:13\n100 - BV: F9 B5 \u267a\n100 - Site: CCAFS\n100 - pl: Starlink\n100 - plm: 15,600 kg\n100 - Orbit: LEO\n100 - Cust: SpaceX\n100 - out: Success\n\n100 - land: Success\n101 - FN: 101\n101 - Date: 6 December 2020\n101 - Time: 16:17:08\n101 - BV: F9 B5 \u267a\n101 - Site: KSC\n101 - pl: SpaceX CRS-21\n101 - plm: 2,972 kg\n101 - Orbit: LEO\n101 - Cust: NASA\n101 - out: Success\n\n101 - land: Success\n102 - FN: 102\n102 - Date: 13 December 2020\n102 - Time: 17:30:00\n102 - BV: F9 B5 \u267a\n102 - Site: CCSFS\n102 - pl: SXM-7\n102 - plm: 7,000 kg\n102 - Orbit: GTO\n102 - Cust: Sirius XM\n102 - out: Success\n\n102 - land: Success\n103 - FN: 103\n103 - Date: 19 December 2020\n103 - Time: 14:00:00\n103 - BV: F9 B5 \u267a\n103 - Site: KSC\n103 - pl: NROL-108\n103 - plm: C\n103 - Orbit: LEO\n103 - Cust: NRO\n103 - out: Success\n\n103 - land: Success\n104 - FN: 104\n104 - Date: 8 January 2021\n104 - Time: 02:15\n104 - BV: F9 B5\n104 - Site: CCSFS\n104 - pl: T\u00fcrksat 5A\n104 - plm: 3,500 kg\n104 - Orbit: GTO\n104 - Cust: T\u00fcrksat\n104 - out: Success\n\n104 - land: Success\n105 - FN: 105\n105 - Date: 20 January 2021\n105 - Time: 13:02\n105 - BV: F9 B5B1051.8\n105 - Site: KSC\n105 - pl: Starlink\n105 - plm: 15,600 kg\n105 - Orbit: LEO\n105 - Cust: SpaceX\n105 - out: Success\n\n105 - land: Success\n106 - FN: 106\n106 - Date: 24 January 2021\n106 - Time: 15:00\n106 - BV: F9 B5B1058.5\n106 - Site: CCSFS\n106 - pl: Transporter-1\n106 - plm: ~5,000 kg\n106 - Orbit: SSO\n106 - Cust: Various\n106 - out: Success\n\n106 - land: Success\n107 - FN: 107\n107 - Date: 4 February 2021\n107 - Time: 06:19\n107 - BV: F9 B5 \u267a\n107 - Site: CCSFS\n107 - pl: Starlink\n107 - plm: 15,600 kg\n107 - Orbit: LEO\n107 - Cust: SpaceX\n107 - out: Success\n\n107 - land: Success\n108 - FN: 108\n108 - Date: 16 February 2021\n108 - Time: 03:59:37\n108 - BV: F9 B5 \u267a\n108 - Site: CCSFS\n108 - pl: Starlink\n108 - plm: 15,600 kg\n108 - Orbit: LEO\n108 - Cust: SpaceX\n108 - out: Success\n\n108 - land: Failure\n109 - FN: 109\n109 - Date: 4 March 2021\n109 - Time: 08:24\n109 - BV: F9 B5 \u267a\n109 - Site: KSC\n109 - pl: Starlink\n109 - plm: 15,600 kg\n109 - Orbit: LEO\n109 - Cust: SpaceX\n109 - out: Success\n\n109 - land: Success\n110 - FN: 110\n110 - Date: 11 March 2021\n110 - Time: 08:13:29\n110 - BV: F9 B5 \u267a\n110 - Site: CCSFS\n110 - pl: Starlink\n110 - plm: 15,600 kg\n110 - Orbit: LEO\n110 - Cust: SpaceX\n110 - out: Success\n\n110 - land: Success\n111 - FN: 111\n111 - Date: 14 March 2021\n111 - Time: 10:01\n111 - BV: F9 B5 \u267a\n111 - Site: KSC\n111 - pl: Starlink\n111 - plm: 15,600 kg\n111 - Orbit: LEO\n111 - Cust: SpaceX\n111 - out: Success\n\n111 - land: Success\n112 - FN: 112\n112 - Date: 24 March 2021\n112 - Time: 08:28\n112 - BV: F9 B5B1060.6\n112 - Site: CCSFS\n112 - pl: Starlink\n112 - plm: 15,600 kg\n112 - Orbit: LEO\n112 - Cust: SpaceX\n112 - out: Success\n\n112 - land: Success\n113 - FN: 113\n113 - Date: 7 April 2021\n113 - Time: 16:34\n113 - BV: F9 B5 \u267a\n113 - Site: CCSFS\n113 - pl: Starlink\n113 - plm: 15,600 kg\n113 - Orbit: LEO\n113 - Cust: SpaceX\n113 - out: Success\n\n113 - land: Success\n114 - FN: 114\n114 - Date: 23 April 2021\n114 - Time: 9:49\n114 - BV: F9 B5B1061.2\n114 - Site: KSC\n114 - pl: Crew-2\n114 - plm: ~13,000 kg\n114 - Orbit: LEO\n114 - Cust: NASA\n114 - out: Success\n\n114 - land: Success\n115 - FN: 115\n115 - Date: 29 April 2021\n115 - Time: 03:44\n115 - BV: F9 B5B1060.7\n115 - Site: CCSFS\n115 - pl: Starlink\n115 - plm: 15,600 kg\n115 - Orbit: LEO\n115 - Cust: SpaceX\n115 - out: Success\n\n115 - land: Success\n116 - FN: 116\n116 - Date: 4 May 2021\n116 - Time: 19:01\n116 - BV: F9 B5B1049.9\n116 - Site: KSC\n116 - pl: Starlink\n116 - plm: 15,600 kg\n116 - Orbit: LEO\n116 - Cust: SpaceX\n116 - out: Success\n\n116 - land: Success\n117 - FN: 117\n117 - Date: 9 May 2021\n117 - Time: 06:42\n117 - BV: F9 B5B1051.10\n117 - Site: CCSFS\n117 - pl: Starlink\n117 - plm: 15,600 kg\n117 - Orbit: LEO\n117 - Cust: SpaceX\n117 - out: Success\n\n117 - land: Success\n118 - FN: 118\n118 - Date: 15 May 2021\n118 - Time: 22:56\n118 - BV: F9 B5B1058.8\n118 - Site: KSC\n118 - pl: Starlink\n118 - plm: ~14,000 kg\n118 - Orbit: LEO\n118 - Cust: SpaceX\n118 - out: Success\n\n118 - land: Success\n119 - FN: 119\n119 - Date: 26 May 2021\n119 - Time: 18:59\n119 - BV: F9 B5B1063.2\n119 - Site: CCSFS\n119 - pl: Starlink\n119 - plm: 15,600 kg\n119 - Orbit: LEO\n119 - Cust: SpaceX\n119 - out: Success\n\n119 - land: Success\n120 - FN: 120\n120 - Date: 3 June 2021\n120 - Time: 17:29\n120 - BV: F9 B5B1067.1\n120 - Site: KSC\n120 - pl: SpaceX CRS-22\n120 - plm: 3,328 kg\n120 - Orbit: LEO\n120 - Cust: NASA\n120 - out: Success\n\n120 - land: Success\n121 - FN: 121\n121 - Date: 6 June 2021\n121 - Time: 04:26\n121 - BV: F9 B5\n121 - Site: CCSFS\n121 - pl: SXM-8\n121 - plm: 7,000 kg\n121 - Orbit: GTO\n121 - Cust: Sirius XM\n121 - out: Success\n\n121 - land: Success\n"
                }
            ],
            "source": "extracted_row = 0\n#Extract each table \nfor table_number,table in enumerate(soup.find_all('table',\"wikitable plainrowheaders collapsible\")):\n   # get table row \n    for rows in table.find_all(\"tr\"):\n        #check to see if first table heading is as number corresponding to launch a number \n        if rows.th:\n            if rows.th.string:\n                flight_number=rows.th.string.strip()\n                flag=flight_number.isdigit()\n        else:\n            flag=False\n        #get table element \n        row=rows.find_all('td')\n        #if it is number save cells in a dictonary \n        if flag:\n            extracted_row += 1\n            # Flight Number value\n            # TODO: Append the flight_number into launch_dict with key `Flight No.`\n            print(f'{flight_number} - FN: {flight_number}')\n            launch_dict['Flight No.'].append(flight_number)\n            \n            \n            # Date value\n            # TODO: Append the date into launch_dict with key `Date`\n            datatimelist=date_time(row[0])\n            date = datatimelist[0].strip(',')\n            print(f'{flight_number} - Date: {date}')\n            launch_dict['Date'].append(date)\n            \n            # Time value\n            # TODO: Append the time into launch_dict with key `Time`\n            time = datatimelist[1]\n            print(f'{flight_number} - Time: {time}')\n            launch_dict['Time'].append(time)\n            #print(time)\n              \n            # Booster version\n            # TODO: Append the bv into launch_dict with key `Version Booster`\n            bv=booster_version(row[1])\n            if not(bv):\n                bv=row[1].a.string\n            print(f'{flight_number} - BV: {bv}')\n            launch_dict['Version Booster'].append(bv)\n            \n            \n            # Launch Site\n            # TODO: Append the bv into launch_dict with key `Launch Site`\n            launch_site = row[2].a.string\n            print(f'{flight_number} - Site: {launch_site}')\n            launch_dict['Launch site'].append(launch_site)\n            \n            # Payload\n            # TODO: Append the payload into launch_dict with key `Payload`\n            payload = row[3].a.string\n            print(f'{flight_number} - pl: {payload}')\n            launch_dict['Payload'].append(payload)\n            \n            # Payload Mass\n            # TODO: Append the payload_mass into launch_dict with key `Payload mass`\n            payload_mass = get_mass(row[4])\n            print(f'{flight_number} - plm: {payload_mass}')\n            launch_dict['Payload mass'].append(payload_mass)\n            \n            # Orbit\n            # TODO: Append the orbit into launch_dict with key `Orbit`\n            orbit = row[5].a.string\n            print(f'{flight_number} - Orbit: {orbit}')\n            launch_dict['Orbit'].append(orbit)\n            \n            # Customer\n            # TODO: Append the customer into launch_dict with key `Customer`\n            try:\n                customer = row[6].a.string\n            except:\n                customer = 'Various'\n            print(f'{flight_number} - Cust: {customer}')\n            launch_dict['Customer'].append(customer)\n            \n            # Launch outcome\n            # TODO: Append the launch_outcome into launch_dict with key `Launch outcome`\n            launch_outcome = list(row[7].strings)[0]\n            print(f'{flight_number} - out: {launch_outcome}')\n            launch_dict['Launch outcome'].append(launch_outcome)\n            \n            # Booster landing\n            # TODO: Append the launch_outcome into launch_dict with key `Booster landing`\n            booster_landing = landing_status(row[8])\n            print(f'{flight_number} - land: {booster_landing}')\n            launch_dict['Booster landing'].append(booster_landing)\n            "
        },
        {
            "cell_type": "markdown",
            "metadata": {},
            "source": "After you have fill in the parsed launch record values into `launch_dict`, you can create a dataframe from it.\n"
        },
        {
            "cell_type": "code",
            "execution_count": 83,
            "metadata": {},
            "outputs": [
                {
                    "name": "stdout",
                    "output_type": "stream",
                    "text": "Flight No.: 121\nLaunch site: 121\nPayload: 121\nPayload mass: 121\nOrbit: 121\nCustomer: 121\nLaunch outcome: 121\nVersion Booster: 121\nBooster landing: 121\nDate: 121\nTime: 121\n"
                }
            ],
            "source": "for key in launch_dict:\n    print(f'{key}: {len(launch_dict[key])}')"
        },
        {
            "cell_type": "code",
            "execution_count": 84,
            "metadata": {},
            "outputs": [],
            "source": "df = pd.DataFrame(launch_dict)"
        },
        {
            "cell_type": "code",
            "execution_count": 94,
            "metadata": {},
            "outputs": [
                {
                    "data": {
                        "text/html": "<div>\n<style scoped>\n    .dataframe tbody tr th:only-of-type {\n        vertical-align: middle;\n    }\n\n    .dataframe tbody tr th {\n        vertical-align: top;\n    }\n\n    .dataframe thead th {\n        text-align: right;\n    }\n</style>\n<table border=\"1\" class=\"dataframe\">\n  <thead>\n    <tr style=\"text-align: right;\">\n      <th></th>\n      <th>Flight No.</th>\n      <th>Launch site</th>\n      <th>Payload</th>\n      <th>Payload mass</th>\n      <th>Orbit</th>\n      <th>Customer</th>\n      <th>Launch outcome</th>\n      <th>Version Booster</th>\n      <th>Booster landing</th>\n      <th>Date</th>\n      <th>Time</th>\n    </tr>\n  </thead>\n  <tbody>\n    <tr>\n      <th>0</th>\n      <td>1</td>\n      <td>CCAFS</td>\n      <td>Dragon Spacecraft Qualification Unit</td>\n      <td>0</td>\n      <td>LEO</td>\n      <td>SpaceX</td>\n      <td>Success\\n</td>\n      <td>F9 v1.0B0003.1</td>\n      <td>Failure</td>\n      <td>4 June 2010</td>\n      <td>18:45</td>\n    </tr>\n    <tr>\n      <th>1</th>\n      <td>2</td>\n      <td>CCAFS</td>\n      <td>Dragon</td>\n      <td>0</td>\n      <td>LEO</td>\n      <td>NASA</td>\n      <td>Success</td>\n      <td>F9 v1.0B0004.1</td>\n      <td>Failure</td>\n      <td>8 December 2010</td>\n      <td>15:43</td>\n    </tr>\n    <tr>\n      <th>2</th>\n      <td>3</td>\n      <td>CCAFS</td>\n      <td>Dragon</td>\n      <td>525 kg</td>\n      <td>LEO</td>\n      <td>NASA</td>\n      <td>Success</td>\n      <td>F9 v1.0B0005.1</td>\n      <td>No attempt\\n</td>\n      <td>22 May 2012</td>\n      <td>07:44</td>\n    </tr>\n    <tr>\n      <th>3</th>\n      <td>4</td>\n      <td>CCAFS</td>\n      <td>SpaceX CRS-1</td>\n      <td>4,700 kg</td>\n      <td>LEO</td>\n      <td>NASA</td>\n      <td>Success\\n</td>\n      <td>F9 v1.0B0006.1</td>\n      <td>No attempt</td>\n      <td>8 October 2012</td>\n      <td>00:35</td>\n    </tr>\n    <tr>\n      <th>4</th>\n      <td>5</td>\n      <td>CCAFS</td>\n      <td>SpaceX CRS-2</td>\n      <td>4,877 kg</td>\n      <td>LEO</td>\n      <td>NASA</td>\n      <td>Success\\n</td>\n      <td>F9 v1.0B0007.1</td>\n      <td>No attempt\\n</td>\n      <td>1 March 2013</td>\n      <td>15:10</td>\n    </tr>\n    <tr>\n      <th>...</th>\n      <td>...</td>\n      <td>...</td>\n      <td>...</td>\n      <td>...</td>\n      <td>...</td>\n      <td>...</td>\n      <td>...</td>\n      <td>...</td>\n      <td>...</td>\n      <td>...</td>\n      <td>...</td>\n    </tr>\n    <tr>\n      <th>116</th>\n      <td>117</td>\n      <td>CCSFS</td>\n      <td>Starlink</td>\n      <td>15,600 kg</td>\n      <td>LEO</td>\n      <td>SpaceX</td>\n      <td>Success\\n</td>\n      <td>F9 B5B1051.10</td>\n      <td>Success</td>\n      <td>9 May 2021</td>\n      <td>06:42</td>\n    </tr>\n    <tr>\n      <th>117</th>\n      <td>118</td>\n      <td>KSC</td>\n      <td>Starlink</td>\n      <td>~14,000 kg</td>\n      <td>LEO</td>\n      <td>SpaceX</td>\n      <td>Success\\n</td>\n      <td>F9 B5B1058.8</td>\n      <td>Success</td>\n      <td>15 May 2021</td>\n      <td>22:56</td>\n    </tr>\n    <tr>\n      <th>118</th>\n      <td>119</td>\n      <td>CCSFS</td>\n      <td>Starlink</td>\n      <td>15,600 kg</td>\n      <td>LEO</td>\n      <td>SpaceX</td>\n      <td>Success\\n</td>\n      <td>F9 B5B1063.2</td>\n      <td>Success</td>\n      <td>26 May 2021</td>\n      <td>18:59</td>\n    </tr>\n    <tr>\n      <th>119</th>\n      <td>120</td>\n      <td>KSC</td>\n      <td>SpaceX CRS-22</td>\n      <td>3,328 kg</td>\n      <td>LEO</td>\n      <td>NASA</td>\n      <td>Success\\n</td>\n      <td>F9 B5B1067.1</td>\n      <td>Success</td>\n      <td>3 June 2021</td>\n      <td>17:29</td>\n    </tr>\n    <tr>\n      <th>120</th>\n      <td>121</td>\n      <td>CCSFS</td>\n      <td>SXM-8</td>\n      <td>7,000 kg</td>\n      <td>GTO</td>\n      <td>Sirius XM</td>\n      <td>Success\\n</td>\n      <td>F9 B5</td>\n      <td>Success</td>\n      <td>6 June 2021</td>\n      <td>04:26</td>\n    </tr>\n  </tbody>\n</table>\n<p>121 rows \u00d7 11 columns</p>\n</div>",
                        "text/plain": "    Flight No. Launch site                               Payload Payload mass  \\\n0            1       CCAFS  Dragon Spacecraft Qualification Unit            0   \n1            2       CCAFS                                Dragon            0   \n2            3       CCAFS                                Dragon       525 kg   \n3            4       CCAFS                          SpaceX CRS-1     4,700 kg   \n4            5       CCAFS                          SpaceX CRS-2     4,877 kg   \n..         ...         ...                                   ...          ...   \n116        117       CCSFS                              Starlink    15,600 kg   \n117        118         KSC                              Starlink   ~14,000 kg   \n118        119       CCSFS                              Starlink    15,600 kg   \n119        120         KSC                         SpaceX CRS-22     3,328 kg   \n120        121       CCSFS                                 SXM-8     7,000 kg   \n\n    Orbit   Customer Launch outcome Version Booster Booster landing  \\\n0     LEO     SpaceX      Success\\n  F9 v1.0B0003.1         Failure   \n1     LEO       NASA        Success  F9 v1.0B0004.1         Failure   \n2     LEO       NASA        Success  F9 v1.0B0005.1    No attempt\\n   \n3     LEO       NASA      Success\\n  F9 v1.0B0006.1      No attempt   \n4     LEO       NASA      Success\\n  F9 v1.0B0007.1    No attempt\\n   \n..    ...        ...            ...             ...             ...   \n116   LEO     SpaceX      Success\\n   F9 B5B1051.10         Success   \n117   LEO     SpaceX      Success\\n    F9 B5B1058.8         Success   \n118   LEO     SpaceX      Success\\n    F9 B5B1063.2         Success   \n119   LEO       NASA      Success\\n    F9 B5B1067.1         Success   \n120   GTO  Sirius XM      Success\\n           F9 B5         Success   \n\n                Date   Time  \n0        4 June 2010  18:45  \n1    8 December 2010  15:43  \n2        22 May 2012  07:44  \n3     8 October 2012  00:35  \n4       1 March 2013  15:10  \n..               ...    ...  \n116       9 May 2021  06:42  \n117      15 May 2021  22:56  \n118      26 May 2021  18:59  \n119      3 June 2021  17:29  \n120      6 June 2021  04:26  \n\n[121 rows x 11 columns]"
                    },
                    "execution_count": 94,
                    "metadata": {},
                    "output_type": "execute_result"
                }
            ],
            "source": "df"
        },
        {
            "cell_type": "markdown",
            "metadata": {},
            "source": "We can now export it to a <b>CSV</b> for the next section, but to make the answers consistent and in case you have difficulties finishing this lab.\n\nFollowing labs will be using a provided dataset to make each lab independent.\n"
        },
        {
            "cell_type": "markdown",
            "metadata": {},
            "source": "<code>df.to_csv('spacex_web_scraped.csv', index=False)</code>\n"
        },
        {
            "cell_type": "code",
            "execution_count": 95,
            "metadata": {},
            "outputs": [],
            "source": "df.to_csv('spacex_web_scraped.csv', index=False)"
        },
        {
            "cell_type": "markdown",
            "metadata": {},
            "source": "## Authors\n"
        },
        {
            "cell_type": "markdown",
            "metadata": {},
            "source": "<a href=\"https://www.linkedin.com/in/yan-luo-96288783/?utm_medium=Exinfluencer&utm_source=Exinfluencer&utm_content=000026UJ&utm_term=10006555&utm_id=NA-SkillsNetwork-Channel-SkillsNetworkCoursesIBMDS0321ENSkillsNetwork26802033-2021-01-01\">Yan Luo</a>\n"
        },
        {
            "cell_type": "markdown",
            "metadata": {},
            "source": "<a href=\"https://www.linkedin.com/in/nayefaboutayoun/?utm_medium=Exinfluencer&utm_source=Exinfluencer&utm_content=000026UJ&utm_term=10006555&utm_id=NA-SkillsNetwork-Channel-SkillsNetworkCoursesIBMDS0321ENSkillsNetwork26802033-2021-01-01\">Nayef Abou Tayoun</a>\n"
        },
        {
            "cell_type": "markdown",
            "metadata": {},
            "source": "## Change Log\n"
        },
        {
            "cell_type": "markdown",
            "metadata": {},
            "source": "| Date (YYYY-MM-DD) | Version | Changed By | Change Description          |\n| ----------------- | ------- | ---------- | --------------------------- |\n| 2021-06-09        | 1.0     | Yan Luo    | Tasks updates               |\n| 2020-11-10        | 1.0     | Nayef      | Created the initial version |\n"
        },
        {
            "cell_type": "markdown",
            "metadata": {},
            "source": "Copyright \u00a9 2021 IBM Corporation. All rights reserved.\n"
        }
    ],
    "metadata": {
        "kernelspec": {
            "display_name": "Python 3.8",
            "language": "python",
            "name": "python3"
        },
        "language_info": {
            "codemirror_mode": {
                "name": "ipython",
                "version": 3
            },
            "file_extension": ".py",
            "mimetype": "text/x-python",
            "name": "python",
            "nbconvert_exporter": "python",
            "pygments_lexer": "ipython3",
            "version": "3.8.11"
        }
    },
    "nbformat": 4,
    "nbformat_minor": 4
}